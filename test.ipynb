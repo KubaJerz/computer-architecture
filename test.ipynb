{
 "cells": [
  {
   "cell_type": "code",
   "execution_count": 1,
   "id": "49fd9b59",
   "metadata": {},
   "outputs": [],
   "source": [
    "import numpy as np"
   ]
  },
  {
   "cell_type": "code",
   "execution_count": 6,
   "id": "d93e1d65",
   "metadata": {},
   "outputs": [
    {
     "data": {
      "text/plain": [
       "np.int64(51)"
      ]
     },
     "execution_count": 6,
     "metadata": {},
     "output_type": "execute_result"
    }
   ],
   "source": [
    "v1 = np.array([1, 20, 10])\n",
    "v2 = np.array([1, 2, 1])\n",
    "\n",
    "out = np.dot(v1, v2)\n",
    "# out, (bin(out))\n",
    "out"
   ]
  },
  {
   "cell_type": "code",
   "execution_count": 3,
   "id": "f10b8f81",
   "metadata": {},
   "outputs": [
    {
     "data": {
      "text/plain": [
       "47513141328"
      ]
     },
     "execution_count": 3,
     "metadata": {},
     "output_type": "execute_result"
    }
   ],
   "source": [
    "int('0b10010050',16)"
   ]
  }
 ],
 "metadata": {
  "kernelspec": {
   "display_name": "base",
   "language": "python",
   "name": "python3"
  },
  "language_info": {
   "codemirror_mode": {
    "name": "ipython",
    "version": 3
   },
   "file_extension": ".py",
   "mimetype": "text/x-python",
   "name": "python",
   "nbconvert_exporter": "python",
   "pygments_lexer": "ipython3",
   "version": "3.11.5"
  }
 },
 "nbformat": 4,
 "nbformat_minor": 5
}
