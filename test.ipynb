{
 "cells": [
  {
   "cell_type": "code",
   "execution_count": 13,
   "id": "49fd9b59",
   "metadata": {},
   "outputs": [],
   "source": [
    "import numpy as np"
   ]
  },
  {
   "cell_type": "code",
   "execution_count": null,
   "id": "d93e1d65",
   "metadata": {},
   "outputs": [
    {
     "data": {
      "text/plain": [
       "np.int64(490)"
      ]
     },
     "execution_count": 26,
     "metadata": {},
     "output_type": "execute_result"
    }
   ],
   "source": [
    "v1 = np.array([-14, 1, 44, -88])#, 17, 7, 38, -33, -36, -88, 75, -12, 88, -38, 45, -63, -78, 22, 64, 93, 81, -98, -92, -31, -10, -55, -57, 97, 56, -73, 66, 35, 33, 79, -95, -70, 0, 66, -77, -91, 2, 93, -98, 45, 75, -68, -29, -88, 78, -38])\n",
    "v2 = np.array([-35, 88, -100, -81]) #, -4, 97, 11, -39, 90, -2, -30, 2, 69, -56, -90, -41, -56, -91, -24, 95, 55, 50, 50, 27, 75, -80, -41, -33, -76, 74, -78, -17, 88, 21, 84, -27, 76, -49, -53, 22, 66, -79, -17, 73, 55, -62, -70, 29, -40, 36])\n",
    "\n",
    "out = np.dot(v1, v2)\n",
    "# out, (bin(out))\n",
    "out"
   ]
  },
  {
   "cell_type": "code",
   "execution_count": 15,
   "id": "f10b8f81",
   "metadata": {},
   "outputs": [
    {
     "data": {
      "text/plain": [
       "47513141328"
      ]
     },
     "execution_count": 15,
     "metadata": {},
     "output_type": "execute_result"
    }
   ],
   "source": [
    "int('0b10010050',16)"
   ]
  },
  {
   "cell_type": "code",
   "execution_count": 24,
   "id": "bbb1f1eb",
   "metadata": {},
   "outputs": [
    {
     "data": {
      "text/plain": [
       "'-35, 88, -100, -81, -4, 97, 11, -39, 90, -2, -30, 2, 69, -56, -90, -41, -56, -91, -24, 95, 55, 50, 50, 27, 75, -80, -41, -33, -76, 74, -78, -17, 88, 21, 84, -27, 76, -49, -53, 22, 66, -79, -17, 73, 55, -62, -70, 29, -40, 36'"
      ]
     },
     "execution_count": 24,
     "metadata": {},
     "output_type": "execute_result"
    }
   ],
   "source": [
    "vec_str = \"-35 88 -100 -81 -4 97 11 -39 90 -2 -30 2 69 -56 -90 -41 -56 -91 -24 95 55 50 50 27 75 -80 -41 -33 -76 74 -78 -17 88 21 84 -27 76 -49 -53 22 66 -79 -17 73 55 -62 -70 29 -40 36\"\n",
    "\n",
    "items = vec_str.replace(\" \", \", \")\n",
    "items"
   ]
  },
  {
   "cell_type": "code",
   "execution_count": null,
   "id": "55f3969e",
   "metadata": {},
   "outputs": [],
   "source": [
    "\n",
    "\n",
    "# Vector 1:-14 1 44 -88 17 7 38 -33 -36 -88 75 -12 88 -38 45 -63 -78 22 64 93 81 -98 -92 -31 -10 -55 -57 97 56 -73 66 35 33 79 -95 -70 0 66 -77 -91 2 93 -98 45 75 -68 -29 -88 78 -38\n",
    "# Vector 2: -35 88 -100 -81 -4 97 11 -39 90 -2 -30 2 69 -56 -90 -41 -56 -91 -24 95 55 50 50 27 75 -80 -41 -33 -76 74 -78 -17 88 21 84 -27 76 -49 -53 22 66 -79 -17 73 55 -62 -70 29 -40 36"
   ]
  }
 ],
 "metadata": {
  "kernelspec": {
   "display_name": "base",
   "language": "python",
   "name": "python3"
  },
  "language_info": {
   "codemirror_mode": {
    "name": "ipython",
    "version": 3
   },
   "file_extension": ".py",
   "mimetype": "text/x-python",
   "name": "python",
   "nbconvert_exporter": "python",
   "pygments_lexer": "ipython3",
   "version": "3.11.5"
  }
 },
 "nbformat": 4,
 "nbformat_minor": 5
}
